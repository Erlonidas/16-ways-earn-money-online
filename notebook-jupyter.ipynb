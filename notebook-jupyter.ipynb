{
 "cells": [
  {
   "cell_type": "code",
   "execution_count": 1,
   "id": "11d07482-e16f-4c4d-9b48-7e3792517a89",
   "metadata": {},
   "outputs": [],
   "source": [
    "import urllib3\n",
    "from bs4 import BeautifulSoup\n",
    "from bs4 import NavigableString\n",
    "import unicodedata"
   ]
  },
  {
   "cell_type": "markdown",
   "id": "d7a2e796-076c-4bdd-9921-847a10e8409f",
   "metadata": {
    "tags": []
   },
   "source": [
    "#### Starting connection using url below\n",
    "> Linking to a webpage that provide 16 ways to make money online.\n",
    "The idea here is getting html and throw it to beautiful soup."
   ]
  },
  {
   "cell_type": "code",
   "execution_count": 2,
   "id": "9533f321-35f5-438f-99fd-8f2ef6cee169",
   "metadata": {
    "tags": []
   },
   "outputs": [],
   "source": [
    "url = 'https://time.com/personal-finance/article/how-to-make-money-online/'\n",
    "file_html_txt = 'html-txt-v3.txt'\n",
    "\n",
    "http = urllib3.PoolManager()\n",
    "web_modifier = http.request(\"GET\",\n",
    "                            url, \n",
    "                            preload_content = False\n",
    "                           )                         \n",
    "web_modifier.auto_close = False     "
   ]
  },
  {
   "cell_type": "markdown",
   "id": "ff9885e5-c56c-4a75-be5e-1a6f451ac209",
   "metadata": {},
   "source": [
    "_After facing problem with charmap 'u\\0303', the only whey was using unicodedata lib_\n",
    "> <p>I tried using IO wrapper encoding uft-8, but the problem persisted</p>"
   ]
  },
  {
   "cell_type": "code",
   "execution_count": 3,
   "id": "8a44de9b-6a20-4b7a-a6a5-df2b697a3ecc",
   "metadata": {},
   "outputs": [],
   "source": [
    "binario = web_modifier.read()\n",
    "conversor = binario.decode('utf-8')\n",
    "web_modifier.auto_close = False    "
   ]
  },
  {
   "cell_type": "code",
   "execution_count": 4,
   "id": "3bddbe25-f6f6-4560-be99-aa16db41771d",
   "metadata": {
    "tags": []
   },
   "outputs": [],
   "source": [
    "conversor = unicodedata.normalize('NFKD', conversor).encode('ascii', 'ignore').decode('utf-8')"
   ]
  },
  {
   "cell_type": "code",
   "execution_count": null,
   "id": "131bae2f-0cb7-4d2c-95c9-c9de895c900f",
   "metadata": {
    "tags": []
   },
   "outputs": [],
   "source": [
    "# Writing a html to .txt\n",
    "with open(file_html_txt,'w') as file_handle:\n",
    "    file_handle.write(conversor)"
   ]
  },
  {
   "cell_type": "markdown",
   "id": "fa7a9b67-7a8b-4136-8189-c3db60330023",
   "metadata": {},
   "source": [
    "> ##### After analyzing the HTML content, the BeautifulSoup library was used to scrape the website's content. Tips on how to make money online are concentrated within the div element that contains a specific class. The class is highlighted below. The <tracking_div> function is then utilized to locate the specific div and only then extract the information about methods to make money online."
   ]
  },
  {
   "cell_type": "code",
   "execution_count": 5,
   "id": "0ac17ebe-6fb1-4e44-b2b0-ba256a791283",
   "metadata": {},
   "outputs": [],
   "source": [
    "class_especific_in_div = \"mdx-styled-renderer___StyledDiv-sc-1khx60n-0 eQvyMj main___\\\n",
    "StyledStyledMDXRenderer-sc-1ql5noe-1 kcKaXX\"\n",
    "class_especific_in_div = class_especific_in_div.split(' ')\n",
    "length_class = len(class_especific_in_div)"
   ]
  },
  {
   "cell_type": "code",
   "execution_count": 10,
   "id": "bb0430b6-4fc0-4ef9-b2f3-ce745c3037d2",
   "metadata": {
    "tags": []
   },
   "outputs": [],
   "source": [
    "def tracking_div(anyList):\n",
    "    for div in anyList:\n",
    "        try:\n",
    "            class_in = div['class']\n",
    "        except:\n",
    "            continue\n",
    "        counts = 0\n",
    "        for strings in class_in:\n",
    "            if (strings in class_especific_in_div) == True:\n",
    "                counts += 1\n",
    "                if counts == length_class:\n",
    "                    return div\n",
    "            else:\n",
    "                break\n",
    "    return False "
   ]
  },
  {
   "cell_type": "code",
   "execution_count": 7,
   "id": "4dd61b6c-f381-4ff5-bb65-76bd0d9ba319",
   "metadata": {
    "tags": []
   },
   "outputs": [],
   "source": [
    "soup = BeautifulSoup(conversor,'html.parser')\n",
    "divs = soup.find_all('div')"
   ]
  },
  {
   "cell_type": "code",
   "execution_count": 9,
   "id": "c1a0acb2-0884-4683-a20a-319ba370ea16",
   "metadata": {
    "tags": []
   },
   "outputs": [
    {
     "data": {
      "text/plain": [
       "262"
      ]
     },
     "execution_count": 9,
     "metadata": {},
     "output_type": "execute_result"
    }
   ],
   "source": [
    "len(divs)"
   ]
  },
  {
   "cell_type": "code",
   "execution_count": 11,
   "id": "4d46e3a2-5279-47fc-acf2-ef1ddd8949cf",
   "metadata": {},
   "outputs": [],
   "source": [
    "matched_div = tracking_div(divs)"
   ]
  },
  {
   "cell_type": "code",
   "execution_count": 12,
   "id": "74b3c37c-8ea4-4cca-9392-425ccab19c3d",
   "metadata": {},
   "outputs": [],
   "source": [
    "def flip(coin_face):\n",
    "    if coin_face == '<h3>':\n",
    "        return '<p>'\n",
    "    else:\n",
    "        return '<h3>'"
   ]
  },
  {
   "cell_type": "code",
   "execution_count": 13,
   "id": "9b6efba0-96f6-4bb5-a10b-de808a21350c",
   "metadata": {},
   "outputs": [],
   "source": [
    "get_content_lst = []\n",
    "turn = '<h3>'\n",
    "max_content_web = 32\n",
    "for child in matched_div.descendants:\n",
    "    if turn in str(child):\n",
    "        get_content_lst.append(child.get_text())\n",
    "        turn = flip(turn)\n",
    "        if len(get_content_lst) == max_content_web:\n",
    "            break"
   ]
  },
  {
   "cell_type": "code",
   "execution_count": 15,
   "id": "0a974e7e-82b3-4fab-bb81-062dbbe06038",
   "metadata": {},
   "outputs": [
    {
     "name": "stdout",
     "output_type": "stream",
     "text": [
      "Print on Demand  ################### Print-on-demand (POD) lets you add your own designs to white-label products supplied by a third party on a per-order basis. Popular POD items include t-shirts, coffee mugs, tote bags, and socks. A benefit of POD is it eliminates the need to stock inventory, as everything is handled by the printing company. Many POD websites make it easy to set up your store and select products that you want to add your designs to. These companies will also print your designs and ship the products. To create your designs, you can use websites like Canva or you can hire someone else to create designs using sites like Fiverr or Upwork. To make money, you purchase your custom product for one price (lets say $10), sell it for a markup ($22), and keep the profit. \n"
     ]
    }
   ],
   "source": [
    "# Checking an example if its everything okay.\n",
    "print(get_content_lst[30],'###################',get_content_lst[31])"
   ]
  },
  {
   "cell_type": "code",
   "execution_count": 14,
   "id": "581cea3d-1344-40c3-834c-81f16cbaab3e",
   "metadata": {},
   "outputs": [
    {
     "data": {
      "text/plain": [
       "32"
      ]
     },
     "execution_count": 14,
     "metadata": {},
     "output_type": "execute_result"
    }
   ],
   "source": [
    "len(get_content_lst)"
   ]
  },
  {
   "cell_type": "code",
   "execution_count": 16,
   "id": "6c03869a-ab8e-4165-abfd-662eb7fafe5b",
   "metadata": {
    "tags": []
   },
   "outputs": [],
   "source": [
    "# Setting all as a lista of tuples.\n",
    "row_csv = []\n",
    "for index in range(0,len(get_content_lst),2):\n",
    "    row_csv.append((get_content_lst[index],get_content_lst[index+1]))"
   ]
  },
  {
   "cell_type": "code",
   "execution_count": 17,
   "id": "266de7a4-4306-4a57-86bd-151b843c4337",
   "metadata": {
    "tags": []
   },
   "outputs": [
    {
     "data": {
      "text/plain": [
       "16"
      ]
     },
     "execution_count": 17,
     "metadata": {},
     "output_type": "execute_result"
    }
   ],
   "source": [
    "len(row_csv)"
   ]
  },
  {
   "cell_type": "markdown",
   "id": "4934f62e-c6e4-4e8b-8d91-8171c6f24327",
   "metadata": {},
   "source": [
    "<h4>Using pandas to export a CSV file with the information.</h4>"
   ]
  },
  {
   "cell_type": "code",
   "execution_count": 18,
   "id": "d6e18fe6-346e-4701-80ff-9adf6aef8d8a",
   "metadata": {
    "tags": []
   },
   "outputs": [],
   "source": [
    "import pandas"
   ]
  },
  {
   "cell_type": "code",
   "execution_count": 20,
   "id": "17c12930-236d-467c-b656-820fb5b1b517",
   "metadata": {},
   "outputs": [],
   "source": [
    "df = pandas.DataFrame(row_csv, \n",
    "                      columns = ['Way to win','Description'])"
   ]
  },
  {
   "cell_type": "code",
   "execution_count": 25,
   "id": "0d5931e1-0702-4f33-8206-a8bf0a768e23",
   "metadata": {
    "tags": []
   },
   "outputs": [],
   "source": [
    "df.to_csv('ways_to_win_money_online.csv',index = True, encoding = 'utf-8')"
   ]
  },
  {
   "cell_type": "code",
   "execution_count": null,
   "id": "dc9f108c-355f-4d22-b402-34c91ebebb97",
   "metadata": {},
   "outputs": [],
   "source": []
  }
 ],
 "metadata": {
  "kernelspec": {
   "display_name": "Python 3 (ipykernel)",
   "language": "python",
   "name": "python3"
  },
  "language_info": {
   "codemirror_mode": {
    "name": "ipython",
    "version": 3
   },
   "file_extension": ".py",
   "mimetype": "text/x-python",
   "name": "python",
   "nbconvert_exporter": "python",
   "pygments_lexer": "ipython3",
   "version": "3.11.3"
  }
 },
 "nbformat": 4,
 "nbformat_minor": 5
}
